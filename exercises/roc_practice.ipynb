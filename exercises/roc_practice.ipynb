{
 "cells": [
  {
   "cell_type": "markdown",
   "metadata": {},
   "source": [
    "ROC practice problems from Bill@Deloitte.\n",
    "\n",
    "Tasks:\n",
    "1. Plot an ROC Curve\n",
    "2. Given priors, find operating point.\n",
    "3. Plot precision as a function of TPR.\n",
    "4. Confirm that PR depends on tested priors, but ROC does not"
   ]
  },
  {
   "cell_type": "markdown",
   "metadata": {},
   "source": [
    "## 1. Plot an ROC Curve"
   ]
  },
  {
   "cell_type": "markdown",
   "metadata": {},
   "source": [
    "To plot an ROC curve we first have to obtain results from a classification problem. Or we could just do something simple using dummy data and an easy classifier. The first dummy set that comes into mind is the Iris dataset... and the initial classifier is a logistic regression. Let's start there."
   ]
  },
  {
   "cell_type": "code",
   "execution_count": 140,
   "metadata": {
    "collapsed": false
   },
   "outputs": [],
   "source": [
    "# import the dataset\n",
    "from sklearn.datasets import load_iris\n",
    "iris = load_iris()\n",
    "\n",
    "# randomize\n",
    "from numpy import random\n",
    "mask = random.choice(range(150), replace=False, size=150)\n",
    "\n",
    "# split train and test datasets\n",
    "train_X = iris['data'][mask[:100]]\n",
    "train_y = iris['target'][mask[:100]]\n",
    "test_X = iris['data'][mask[100:]]\n",
    "test_y = iris['target'][mask[100:]]"
   ]
  },
  {
   "cell_type": "code",
   "execution_count": 141,
   "metadata": {
    "collapsed": false
   },
   "outputs": [
    {
     "data": {
      "text/plain": [
       "LogisticRegression(C=1.0, class_weight=None, dual=False, fit_intercept=True,\n",
       "          intercept_scaling=1, max_iter=100, multi_class='ovr', n_jobs=1,\n",
       "          penalty='l2', random_state=None, solver='liblinear', tol=0.0001,\n",
       "          verbose=0, warm_start=False)"
      ]
     },
     "execution_count": 141,
     "metadata": {},
     "output_type": "execute_result"
    }
   ],
   "source": [
    "# import classifier and build model on first 125 samples\n",
    "from sklearn.linear_model import LogisticRegression\n",
    "\n",
    "classifier = LogisticRegression()\n",
    "\n",
    "classifier.fit(train_X, train_y)"
   ]
  },
  {
   "cell_type": "code",
   "execution_count": 142,
   "metadata": {
    "collapsed": false
   },
   "outputs": [],
   "source": [
    "# predict class for last 25 samples\n",
    "pred_X = classifier.predict_proba(test_X)"
   ]
  },
  {
   "cell_type": "code",
   "execution_count": 153,
   "metadata": {
    "collapsed": false
   },
   "outputs": [],
   "source": [
    "# function to calculate build ROC curve\n",
    "# this one will be binary instead of multinomial\n",
    "import matplotlib.pylab as plt\n",
    "import numpy as np\n",
    "%matplotlib inline\n",
    "def plot_ROC(pred_proba, y_actual, steps=101):\n",
    "    # instantiate fpr and tpr arrays\n",
    "    fpr = []\n",
    "    tpr = []\n",
    "    # step through descrimation threshold from 0-1 by step_size\n",
    "    for thresh in numpy.linspace(0, 1, num=steps):\n",
    "        # assign True if probability >= threshold, else False\n",
    "        y_pred = np.array([proba>=thresh for proba in pred_proba])\n",
    "        y_actual = np.array(y_actual)\n",
    "        # calculate tp, fp, fn, and tn counts\n",
    "        tp = ((y_pred==True) & (y_actual==True)).sum()\n",
    "        fp = ((y_pred==True) & (y_actual==False)).sum()\n",
    "        fn = ((y_pred==False) & (y_actual==True)).sum()\n",
    "        tn = ((y_pred==False) & (y_actual==False)).sum()\n",
    "        # calculate and append tpr and fpr\n",
    "        tpr.append(float(tp)/(tp+fn))\n",
    "        fpr.append(float(fp)/(fp+tn))\n",
    "    # plot ROC curve\n",
    "    plt.plot(fpr, tpr)\n",
    "    plt.show()\n",
    "    print fpr\n",
    "    print tpr"
   ]
  },
  {
   "cell_type": "code",
   "execution_count": 155,
   "metadata": {
    "collapsed": false
   },
   "outputs": [
    {
     "name": "stdout",
     "output_type": "stream",
     "text": [
      "[0.0010811297860463525, 0.024515610726618588, 0.91328834414598126, 0.82349834641902531, 0.0010041618619137597, 0.84360131517098613, 0.010711457967734962, 0.85602225381295594, 0.87199476495655126, 0.018642903319463611, 0.0029163839707114147, 0.82986570618715849, 0.00029623173661177791, 0.042715845912049362, 0.0012845399881740189, 0.87944193115736002, 0.00094353764515903865, 0.14108055813271128, 0.016306521817832546, 0.00072338849871572154, 0.001479015627531741, 7.8673099127239847e-05, 0.0005096368974763807, 0.00081204153086674564, 0.023913740803279862, 0.90109623586110377, 0.015424566541165507, 0.79904686314501416, 0.011351546443769891, 0.011746405823015586, 0.00047837160000304606, 0.88034792803060657, 0.0029930279202472301, 0.85008012972329294, 0.0025610887786518327, 0.039521722642597394, 0.053805468298080181, 0.00077597084514130607, 0.80141493428970723, 0.8864638196782697, 0.00071574610464916527, 0.85472813260309111, 0.02491443100942508, 0.064291550794919286, 0.0043483112559420424, 0.69194792520714621, 0.0017222273649750151, 0.85956695223391288, 0.001284539988174021, 0.00029461821442504404]\n",
      "[False, False, True, True, False, True, False, True, True, False, False, True, False, False, False, True, False, False, False, False, False, False, False, False, False, True, False, True, False, False, False, True, False, True, False, False, False, False, True, True, False, True, False, False, False, True, False, True, False, False]\n"
     ]
    }
   ],
   "source": [
    "pred_proba0 = [p[0] for p in pred_X]\n",
    "y_actual0 = [y==0 for y in test_y]\n",
    "print pred_proba0\n",
    "print y_actual0"
   ]
  },
  {
   "cell_type": "code",
   "execution_count": 161,
   "metadata": {
    "collapsed": false
   },
   "outputs": [],
   "source": [
    "steps=101\n",
    "fpr = []\n",
    "tpr = []\n",
    "# step through descrimation threshold from 0-1 by step_size\n",
    "for thresh in np.linspace(0, 1, num=20):\n",
    "    # assign True if probability >= threshold, else False\n",
    "    y_pred = np.array([proba>=thresh for proba in pred_proba0])\n",
    "    y_actual = np.array(y_actual0)\n",
    "    # calculate tp, fp, fn, and tn counts\n",
    "    tp = ((y_pred==True) & (y_actual==True)).sum()\n",
    "    fp = ((y_pred==True) & (y_actual==False)).sum()\n",
    "    fn = ((y_pred==False) & (y_actual==True)).sum()\n",
    "    tn = ((y_pred==False) & (y_actual==False)).sum()\n",
    "    # calculate and append tpr and fpr\n",
    "    tpr.append(float(tp)/(tp+fn))\n",
    "    fpr.append(float(fp)/(fp+tn))"
   ]
  },
  {
   "cell_type": "code",
   "execution_count": 164,
   "metadata": {
    "collapsed": false
   },
   "outputs": [
    {
     "data": {
      "text/plain": [
       "[1.0,\n",
       " 0.08823529411764706,\n",
       " 0.029411764705882353,\n",
       " 0.0,\n",
       " 0.0,\n",
       " 0.0,\n",
       " 0.0,\n",
       " 0.0,\n",
       " 0.0,\n",
       " 0.0,\n",
       " 0.0,\n",
       " 0.0,\n",
       " 0.0,\n",
       " 0.0,\n",
       " 0.0,\n",
       " 0.0,\n",
       " 0.0,\n",
       " 0.0,\n",
       " 0.0,\n",
       " 0.0]"
      ]
     },
     "execution_count": 164,
     "metadata": {},
     "output_type": "execute_result"
    }
   ],
   "source": [
    "fpr"
   ]
  },
  {
   "cell_type": "code",
   "execution_count": 168,
   "metadata": {
    "collapsed": false
   },
   "outputs": [
    {
     "data": {
      "text/plain": [
       "[<matplotlib.lines.Line2D at 0x7f7ae80229d0>]"
      ]
     },
     "execution_count": 168,
     "metadata": {},
     "output_type": "execute_result"
    },
    {
     "data": {
      "image/png": "[encoded data removed]",
      "text/plain": [
       "<matplotlib.figure.Figure at 0x7f7ae821a150>"
      ]
     },
     "metadata": {},
     "output_type": "display_data"
    }
   ],
   "source": [
    "plt.plot(fpr, tpr, 'bo')"
   ]
  }
 ],
 "metadata": {
  "kernelspec": {
   "display_name": "Python 2",
   "language": "python",
   "name": "python2"
  },
  "language_info": {
   "codemirror_mode": {
    "name": "ipython",
    "version": 2
   },
   "file_extension": ".py",
   "mimetype": "text/x-python",
   "name": "python",
   "nbconvert_exporter": "python",
   "pygments_lexer": "ipython2",
   "version": "2.7.11"
  }
 },
 "nbformat": 4,
 "nbformat_minor": 0
}
