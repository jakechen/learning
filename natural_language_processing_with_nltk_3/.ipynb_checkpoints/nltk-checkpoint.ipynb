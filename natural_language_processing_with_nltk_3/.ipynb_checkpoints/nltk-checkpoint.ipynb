{
 "cells": [
  {
   "cell_type": "markdown",
   "metadata": {},
   "source": [
    "# Part of Speech Tagging with NLTK"
   ]
  },
  {
   "cell_type": "code",
   "execution_count": 1,
   "metadata": {
    "collapsed": true
   },
   "outputs": [],
   "source": [
    "import nltk\n",
    "from nltk.corpus import state_union\n",
    "from nltk.tokenize import PunktSentenceTokenizer"
   ]
  },
  {
   "cell_type": "code",
   "execution_count": 2,
   "metadata": {
    "collapsed": true
   },
   "outputs": [],
   "source": [
    "train_text = state_union.raw(\"2005-GWBush.txt\")\n",
    "sample_text = state_union.raw(\"2006-GWBush.txt\")"
   ]
  },
  {
   "cell_type": "code",
   "execution_count": 27,
   "metadata": {
    "collapsed": false
   },
   "outputs": [
    {
     "name": "stdout",
     "output_type": "stream",
     "text": [
      "[u\"PRESIDENT GEORGE W. BUSH'S ADDRESS BEFORE A JOINT SESSION OF THE CONGRESS ON THE STATE OF THE UNION\\n \\nJanuary 31, 2006\\n\\nTHE PRESIDENT: Thank you all.\", u'Mr. Speaker, Vice President Cheney, members of Congress, members of the Supreme Court and diplomatic corps, distinguished guests, and fellow citizens: Today our nation lost a beloved, graceful, courageous woman who called America to its founding ideals and carried on a noble dream.', u'Tonight we are comforted by the hope of a glad reunion with the husband who was taken so long ago, and we are grateful for the good life of Coretta Scott King.', u'(Applause.)', u'President George W. Bush reacts to applause during his State of the Union Address at the Capitol, Tuesday, Jan.']\n"
     ]
    }
   ],
   "source": [
    "custom_sent_tokenizer = PunktSentenceTokenizer(train_text)\n",
    "\n",
    "tokenized = custom_sent_tokenizer.tokenize(sample_text)\n",
    "print tokenized[:5]"
   ]
  },
  {
   "cell_type": "code",
   "execution_count": 26,
   "metadata": {
    "collapsed": false,
    "scrolled": true
   },
   "outputs": [
    {
     "name": "stdout",
     "output_type": "stream",
     "text": [
      "[(u'PRESIDENT', 'NNP'), (u'GEORGE', 'NNP'), (u'W.', 'NNP'), (u'BUSH', 'NNP'), (u\"'S\", 'POS'), (u'ADDRESS', 'NNP'), (u'BEFORE', 'NNP'), (u'A', 'NNP'), (u'JOINT', 'NNP'), (u'SESSION', 'NNP'), (u'OF', 'NNP'), (u'THE', 'NNP'), (u'CONGRESS', 'NNP'), (u'ON', 'NNP'), (u'THE', 'NNP'), (u'STATE', 'NNP'), (u'OF', 'NNP'), (u'THE', 'NNP'), (u'UNION', 'NNP'), (u'January', 'NNP'), (u'31', 'CD'), (u',', ','), (u'2006', 'CD'), (u'THE', 'DT'), (u'PRESIDENT', 'NNP'), (u':', ':'), (u'Thank', 'NNP'), (u'you', 'PRP'), (u'all', 'DT'), (u'.', '.')]\n",
      "[(u'Mr.', 'NNP'), (u'Speaker', 'NNP'), (u',', ','), (u'Vice', 'NNP'), (u'President', 'NNP'), (u'Cheney', 'NNP'), (u',', ','), (u'members', 'NNS'), (u'of', 'IN'), (u'Congress', 'NNP'), (u',', ','), (u'members', 'NNS'), (u'of', 'IN'), (u'the', 'DT'), (u'Supreme', 'NNP'), (u'Court', 'NNP'), (u'and', 'CC'), (u'diplomatic', 'JJ'), (u'corps', 'NNS'), (u',', ','), (u'distinguished', 'VBD'), (u'guests', 'NNS'), (u',', ','), (u'and', 'CC'), (u'fellow', 'JJ'), (u'citizens', 'NNS'), (u':', ':'), (u'Today', 'NN'), (u'our', 'PRP$'), (u'nation', 'NN'), (u'lost', 'VBD'), (u'a', 'DT'), (u'beloved', 'VBN'), (u',', ','), (u'graceful', 'JJ'), (u',', ','), (u'courageous', 'JJ'), (u'woman', 'NN'), (u'who', 'WP'), (u'called', 'VBN'), (u'America', 'NNP'), (u'to', 'TO'), (u'its', 'PRP$'), (u'founding', 'NN'), (u'ideals', 'NNS'), (u'and', 'CC'), (u'carried', 'VBD'), (u'on', 'IN'), (u'a', 'DT'), (u'noble', 'JJ'), (u'dream', 'NN'), (u'.', '.')]\n",
      "[(u'Tonight', 'NNP'), (u'we', 'PRP'), (u'are', 'VBP'), (u'comforted', 'VBN'), (u'by', 'IN'), (u'the', 'DT'), (u'hope', 'NN'), (u'of', 'IN'), (u'a', 'DT'), (u'glad', 'NN'), (u'reunion', 'NN'), (u'with', 'IN'), (u'the', 'DT'), (u'husband', 'NN'), (u'who', 'WP'), (u'was', 'VBD'), (u'taken', 'VBN'), (u'so', 'RB'), (u'long', 'RB'), (u'ago', 'RB'), (u',', ','), (u'and', 'CC'), (u'we', 'PRP'), (u'are', 'VBP'), (u'grateful', 'JJ'), (u'for', 'IN'), (u'the', 'DT'), (u'good', 'NN'), (u'life', 'NN'), (u'of', 'IN'), (u'Coretta', 'NNP'), (u'Scott', 'NNP'), (u'King', 'NNP'), (u'.', '.')]\n",
      "[(u'(', 'NN'), (u'Applause', 'NNP'), (u'.', '.'), (u')', ':')]\n",
      "[(u'President', 'NNP'), (u'George', 'NNP'), (u'W.', 'NNP'), (u'Bush', 'NNP'), (u'reacts', 'VBZ'), (u'to', 'TO'), (u'applause', 'VB'), (u'during', 'IN'), (u'his', 'PRP$'), (u'State', 'NNP'), (u'of', 'IN'), (u'the', 'DT'), (u'Union', 'NNP'), (u'Address', 'NNP'), (u'at', 'IN'), (u'the', 'DT'), (u'Capitol', 'NNP'), (u',', ','), (u'Tuesday', 'NNP'), (u',', ','), (u'Jan', 'NNP'), (u'.', '.')]\n"
     ]
    }
   ],
   "source": [
    "for i in tokenized[:5]:\n",
    "    words = nltk.word_tokenize(i)\n",
    "    tagged = nltk.pos_tag(words)\n",
    "    print(tagged)"
   ]
  },
  {
   "cell_type": "markdown",
   "metadata": {},
   "source": [
    "# Chunking with NLTK"
   ]
  },
  {
   "cell_type": "code",
   "execution_count": 29,
   "metadata": {
    "collapsed": false
   },
   "outputs": [],
   "source": [
    "for i in tokenized[:5]:\n",
    "    words = nltk.word_tokenize(i)\n",
    "    tagged = nltk.pos_tag(words)\n",
    "    chunkGram = r\"\"\"Chunk: {<RB.?>*<VB.?>*<NNP>+<NN>?}\"\"\"\n",
    "    chunkParser = nltk.RegexpParser(chunkGram)\n",
    "    chunked = chunkParser.parse(tagged)\n",
    "    chunked.draw()  "
   ]
  },
  {
   "cell_type": "markdown",
   "metadata": {},
   "source": [
    "# Named Entity Recognition with NLTK"
   ]
  },
  {
   "cell_type": "code",
   "execution_count": 30,
   "metadata": {
    "collapsed": true
   },
   "outputs": [],
   "source": [
    "for i in tokenized[:5]:\n",
    "    words = nltk.word_tokenize(i)\n",
    "    tagged = nltk.pos_tag(words)\n",
    "    namedEnt = nltk.ne_chunk(tagged, binary=True)\n",
    "    namedEnt.draw()"
   ]
  },
  {
   "cell_type": "markdown",
   "metadata": {},
   "source": [
    "# Lemmatizing with NLTK"
   ]
  },
  {
   "cell_type": "code",
   "execution_count": 31,
   "metadata": {
    "collapsed": true
   },
   "outputs": [],
   "source": [
    "from nltk.stem import WordNetLemmatizer"
   ]
  },
  {
   "cell_type": "code",
   "execution_count": 32,
   "metadata": {
    "collapsed": false
   },
   "outputs": [
    {
     "name": "stdout",
     "output_type": "stream",
     "text": [
      "cat\n",
      "cactus\n",
      "goose\n",
      "rock\n",
      "python\n",
      "good\n",
      "best\n",
      "run\n",
      "run\n"
     ]
    }
   ],
   "source": [
    "lemmatizer = WordNetLemmatizer()\n",
    "\n",
    "print(lemmatizer.lemmatize(\"cats\"))\n",
    "print(lemmatizer.lemmatize(\"cacti\"))\n",
    "print(lemmatizer.lemmatize(\"geese\"))\n",
    "print(lemmatizer.lemmatize(\"rocks\"))\n",
    "print(lemmatizer.lemmatize(\"python\"))\n",
    "print(lemmatizer.lemmatize(\"better\", pos=\"a\"))\n",
    "print(lemmatizer.lemmatize(\"best\", pos=\"a\"))\n",
    "print(lemmatizer.lemmatize(\"run\"))\n",
    "print(lemmatizer.lemmatize(\"run\",'v'))"
   ]
  },
  {
   "cell_type": "markdown",
   "metadata": {},
   "source": [
    "# Text Classification with NLTK"
   ]
  },
  {
   "cell_type": "code",
   "execution_count": 33,
   "metadata": {
    "collapsed": true
   },
   "outputs": [],
   "source": [
    "import nltk\n",
    "import random\n",
    "from nltk.corpus import movie_reviews"
   ]
  },
  {
   "cell_type": "code",
   "execution_count": 36,
   "metadata": {
    "collapsed": false
   },
   "outputs": [
    {
     "name": "stdout",
     "output_type": "stream",
     "text": [
      "([u'\"', u'book', u'\"', u'should', u'have', u'remained', u'in', u'shadows', u'book', u'of', u'shadows', u':', u'blair', u'witch', u'2', u'a', u'film', u'review', u'by', u'michael', u'redman', u'copyright', u'2000', u'by', u'michael', u'redman', u'certain', u'things', u'in', u'our', u'lives', u'are', u'inevitable', u'.', u'death', u',', u'sorrow', u',', u'love', u',', u'heartbreak', u',', u'pain', u',', u'joy', u'.', u'we', u'expect', u'these', u'events', u'.', u'we', u'know', u'they', u\"'\", u're', u'going', u'to', u'happen', u'and', u'some', u',', u'we', u'even', u'look', u'forward', u'to', u'.', u'it', u\"'\", u's', u'part', u'of', u'the', u'human', u'condition', u'.', u'we', u'have', u'also', u'become', u'accustomed', u'to', u'inevitable', u'occurrences', u'in', u'our', u'society', u'.', u'as', u'we', u'near', u'the', u'fall', u'election', u',', u'several', u'of', u'them', u'are', u'hitting', u'us', u'in', u'the', u'face', u'.', u'politicians', u'exaggerate', u'their', u'own', u'importance', u'.', u'our', u'side', u'is', u'always', u'right', u';', u'theirs', u'is', u'always', u'wrong', u'.', u'in', u'the', u'end', u',', u'voters', u'are', u'usually', u'forced', u'to', u'choose', u'the', u'lesser', u'of', u'two', u'whocares', u'.', u'in', u'hollywood', u'the', u'one', u'indisputable', u'inevitable', u'is', u'that', u'if', u'a', u'film', u'makes', u'big', u'money', u',', u'there', u'will', u'be', u'a', u'sequel', u'.', u'even', u'if', u'the', u'original', u'story', u'doesn', u\"'\", u't', u'merit', u'one', u'.', u'even', u'if', u'the', u'first', u'film', u'is', u'complete', u'in', u'itself', u'.', u'even', u'if', u'success', u'is', u'a', u'fluke', u'.', u'\"', u'the', u'blair', u'witch', u'project', u'\"', u'was', u'made', u'with', u'a', u'budget', u'of', u'$', u'1', u'.', u'75', u'and', u'exploded', u'on', u'the', u'screen', u',', u'raking', u'in', u'huge', u'profits', u'.', u'the', u'concept', u'was', u'brilliant', u'.', u'the', u'filmmakers', u'created', u'a', u'remarkable', u'buzz', u'that', u'the', u'story', u'might', u'be', u'real', u'.', u'the', u'film', u'itself', u'was', u'even', u'more', u'convincing', u'.', u'the', u'movie', u'_must_', u'be', u'authentic', u'.', u'why', u'else', u'would', u'such', u'amateurish', u'footage', u'be', u'on', u'the', u'big', u'screen', u'?', u'the', u'first', u'film', u'caught', u'lightning', u'in', u'a', u'bottle', u'.', u'the', u'sequel', u'proves', u'you', u'can', u\"'\", u't', u'pour', u'that', u'old', u'lightning', u'into', u'a', u'new', u'bottle', u'.', u'you', u'have', u'to', u'give', u'this', u'effort', u'some', u'credit', u'.', u'it', u'would', u'have', u'been', u'easy', u'to', u'have', u'made', u'the', u'same', u'movie', u'again', u'with', u'a', u'new', u'group', u'of', u'kids', u'.', u'it', u'would', u'have', u'been', u'easy', u',', u'but', u'of', u'course', u',', u'it', u'wouldn', u\"'\", u't', u'have', u'worked', u'.', u'instead', u'\"', u'book', u'of', u'shadows', u'\"', u'acknowledges', u'the', u'first', u'film', u'as', u'a', u'movie', u'and', u'concentrates', u'on', u'the', u'hysteria', u'following', u'its', u'release', u'.', u'it', u\"'\", u's', u'a', u'great', u'scheme', u'and', u'possibly', u'the', u'only', u'entertaining', u'way', u'to', u'do', u'a', u'sequel', u'.', u'unfortunately', u'it', u'doesn', u\"'\", u't', u'work', u'either', u'.', u'five', u'kids', u'spend', u'the', u'night', u'in', u'the', u'woods', u'at', u'the', u'scene', u'of', u'the', u'first', u'film', u'.', u'weird', u'stuff', u'happens', u'and', u'they', u'retreat', u'to', u'an', u'old', u'factory', u'where', u'one', u'of', u'them', u'lives', u'.', u'even', u'weirder', u'stuff', u'happens', u'.', u'some', u'people', u'die', u',', u'there', u\"'\", u's', u'blood', u'and', u'knives', u'and', u'none', u'of', u'the', u'characters', u'have', u'a', u'lick', u'of', u'common', u'sense', u'.', u'while', u'supposedly', u'doing', u'serious', u'research', u',', u'the', u'group', u'sets', u'up', u'a', u'circle', u'of', u'surveillance', u'cameras', u'in', u'the', u'ruins', u'of', u'the', u'old', u'house', u'in', u'the', u'woods', u'and', u'vows', u'to', u'stay', u'alert', u'all', u'night', u'awaiting', u'a', u'visitation', u'.', u'then', u'they', u'proceed', u'to', u'get', u'totally', u'trashed', u'on', u'drugs', u'and', u'alcohol', u'and', u'party', u'down', u'with', u'very', u'loud', u',', u'very', u'obnoxious', u'heavy', u'metal', u'music', u'.', u'it', u\"'\", u's', u'a', u'bad', u'plan', u'.', u'the', u'cast', u'shows', u'some', u'early', u'promise', u'.', u'a', u'couple', u'is', u'doing', u'research', u'on', u'a', u'\"', u'blair', u'witch', u'\"', u'book', u'.', u'the', u'tour', u'guide', u'is', u'a', u'former', u'mental', u'patient', u'turned', u'ebay', u'aficionado', u'.', u'a', u'goth', u'amazon', u'princess', u'adds', u'a', u'bit', u'of', u'comedic', u'relief', u'.', u'the', u'obligatory', u'hot', u'babe', u'is', u'the', u'2000', u'spiritual', u'cinematic', u'descendent', u'of', u'the', u'cute', u'hippie', u'chick', u',', u'the', u'cute', u'rock', u'and', u'roll', u'chick', u'and', u'the', u'cute', u'disco', u'chick', u':', u'the', u'cute', u'wiccan', u'chick', u'.', u'the', u'first', u'film', u\"'\", u's', u'unaccomplished', u'actors', u'came', u'across', u'as', u'real', u'people', u'in', u'a', u'real', u'situation', u'because', u'hours', u'and', u'hours', u'of', u'video', u'were', u'shot', u'during', u'days', u'in', u'the', u'woods', u'.', u'this', u'time', u',', u'these', u'unaccomplished', u'actors', u'just', u'come', u'across', u'as', u'unaccomplished', u'actors', u'.', u'there', u\"'\", u's', u'not', u'one', u'character', u'you', u'care', u'about', u'when', u'they', u'start', u'shouting', u'for', u'no', u'reason', u'.', u'although', u'what', u'passes', u'for', u'a', u'plot', u'starts', u'out', u'with', u'a', u'solid', u'idea', u',', u'it', u\"'\", u's', u'ruined', u'by', u'poor', u'execution', u'.', u'the', u'follow', u'-', u'up', u'to', u'one', u'of', u'the', u'most', u'successful', u'horror', u'films', u'ever', u'is', u'nothing', u'more', u'than', u'a', u'bad', u'slasher', u'movie', u'.', u'they', u\"'\", u're', u'trapped', u'in', u'an', u'old', u'big', u'weird', u'house', u'.', u'they', u'stupidly', u'separate', u'into', u'various', u'rooms', u'.', u'there', u'are', u'strange', u'noises', u',', u'they', u'see', u'scary', u'apparitions', u'and', u'people', u'disappear', u'.', u'ever', u'see', u'this', u'movie', u'?', u'seasoned', u'documentary', u'director', u'joe', u'berlinger', u'should', u'know', u'better', u'.', u'the', u'film', u'features', u'mostly', u'cheap', u'tricks', u'and', u'unnecessary', u'gore', u'.', u'for', u'a', u'storyline', u'filled', u'with', u'surprises', u',', u'it', u\"'\", u's', u'oddly', u'predicable', u'.', u'\"', u'the', u'blair', u'witch', u'project', u'\"', u'was', u'a', u'rare', u'triumph', u'of', u'style', u'over', u'substance', u'.', u'\"', u'the', u'book', u'of', u'shadows', u'\"', u'is', u'a', u'triumph', u'of', u'tedium', u'over', u'promise', u'.'], u'neg')\n"
     ]
    }
   ],
   "source": [
    "documents = [(list(movie_reviews.words(fileid)), category)\n",
    "             for category in movie_reviews.categories()\n",
    "             for fileid in movie_reviews.fileids(category)]\n",
    "\n",
    "random.shuffle(documents)\n",
    "\n",
    "print(documents[1])"
   ]
  },
  {
   "cell_type": "code",
   "execution_count": 37,
   "metadata": {
    "collapsed": false
   },
   "outputs": [
    {
     "name": "stdout",
     "output_type": "stream",
     "text": [
      "[(u',', 77717), (u'the', 76529), (u'.', 65876), (u'a', 38106), (u'and', 35576), (u'of', 34123), (u'to', 31937), (u\"'\", 30585), (u'is', 25195), (u'in', 21822), (u's', 18513), (u'\"', 17612), (u'it', 16107), (u'that', 15924), (u'-', 15595)]\n"
     ]
    }
   ],
   "source": [
    "all_words = []\n",
    "for w in movie_reviews.words():\n",
    "    all_words.append(w.lower())\n",
    "\n",
    "all_words = nltk.FreqDist(all_words)\n",
    "print(all_words.most_common(15))"
   ]
  },
  {
   "cell_type": "code",
   "execution_count": null,
   "metadata": {
    "collapsed": true
   },
   "outputs": [],
   "source": []
  }
 ],
 "metadata": {
  "kernelspec": {
   "display_name": "Python 2",
   "language": "python",
   "name": "python2"
  },
  "language_info": {
   "codemirror_mode": {
    "name": "ipython",
    "version": 2
   },
   "file_extension": ".py",
   "mimetype": "text/x-python",
   "name": "python",
   "nbconvert_exporter": "python",
   "pygments_lexer": "ipython2",
   "version": "2.7.10"
  }
 },
 "nbformat": 4,
 "nbformat_minor": 0
}
