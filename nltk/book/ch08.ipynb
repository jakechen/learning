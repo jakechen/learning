{
 "cells": [
  {
   "cell_type": "markdown",
   "metadata": {},
   "source": [
    "# 8. Analyzing Sentence Structure"
   ]
  },
  {
   "cell_type": "markdown",
   "metadata": {},
   "source": [
    "Sentences can be seen in a *constituent structure* by replacing each *constituent* with a single word, for example:\n",
    "<img src=\"8.2.2.png\">\n",
    "Where  \n",
    "NP = noun phrase  \n",
    "VP = verb phrase  \n",
    "PP = prepositional phrase respectively.\n",
    "\n",
    "Things are *structurally ambiguous* when multiple trees can be generated for a given sentence, for example:\n",
    "<img src=\"8f9a.png\">\n",
    "<img src=\"8f9b.png\">\n",
    "Is the dog in the park? Or is the man in the park?"
   ]
  },
  {
   "cell_type": "markdown",
   "metadata": {},
   "source": [
    "## 8.4 Summary\n",
    "- The traditional categories of context-free grammar are atomic symbols. An important motivation for feature structures is to capture fine-grained distinctions that would otherwise require a massive multiplication of atomic categories.\n",
    "- By using variables over feature values, we can express constraints in grammar productions that allow the realization of different feature specifications to be inter-dependent.\n",
    "- Typically we specify fixed values of features at the lexical level and constrain the values of features in phrases to unify with the corresponding values in their children.\n",
    "- Feature values are either atomic or complex. A particular sub-case of atomic value is the Boolean value, represented by convention as [+/- f].\n",
    "- Two features can share a value (either atomic or complex). Structures with shared values are said to be re-entrant. Shared values are represented by numerical indexes (or tags) in AVMs.\n",
    "- A path in a feature structure is a tuple of features corresponding to the labels on a sequence of arcs from the root of the graph representation.\n",
    "- Two paths are equivalent if they share a value.\n",
    "- Feature structures are partially ordered by subsumption. FS0 subsumes FS1 when all the information contained in FS0 is also present in FS1.\n",
    "- The unification of two structures FS0 and FS1, if successful, is the feature structure FS2 that contains the combined information of both FS0 and FS1.\n",
    "- If unification adds information to a path π in FS, then it also adds information to every path π' equivalent to π.\n",
    "- We can use feature structures to build succinct analyses of a wide variety of linguistic phenomena, including verb subcategorization, inversion constructions, unbounded dependency constructions and case government."
   ]
  },
  {
   "cell_type": "code",
   "execution_count": null,
   "metadata": {
    "collapsed": true
   },
   "outputs": [],
   "source": []
  }
 ],
 "metadata": {
  "kernelspec": {
   "display_name": "Python 2",
   "language": "python",
   "name": "python2"
  },
  "language_info": {
   "codemirror_mode": {
    "name": "ipython",
    "version": 2
   },
   "file_extension": ".py",
   "mimetype": "text/x-python",
   "name": "python",
   "nbconvert_exporter": "python",
   "pygments_lexer": "ipython2",
   "version": "2.7.10"
  }
 },
 "nbformat": 4,
 "nbformat_minor": 0
}
