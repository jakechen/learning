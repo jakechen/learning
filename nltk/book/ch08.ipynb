{
 "cells": [
  {
   "cell_type": "markdown",
   "metadata": {},
   "source": [
    "# 8. Analyzing Sentence Structure"
   ]
  },
  {
   "cell_type": "markdown",
   "metadata": {},
   "source": [
    "Sentences can be seen in a *constituent structure* by replacing each *constituent* with a single word, for example:\n",
    "<img src=\"8.2.2.png\">\n",
    "Where  \n",
    "NP = noun phrase  \n",
    "VP = verb phrase  \n",
    "PP = prepositional phrase respectively.\n",
    "\n",
    "Things are *structurally ambiguous* when multiple trees can be generated for a given sentence, for example:\n",
    "<img src=\"8f9a.png\">\n",
    "<img src=\"8f9b.png\">\n",
    "Is the dog in the park? Or is the man in the park?"
   ]
  },
  {
   "cell_type": "markdown",
   "metadata": {},
   "source": []
  }
 ],
 "metadata": {
  "kernelspec": {
   "display_name": "Python 2",
   "language": "python",
   "name": "python2"
  },
  "language_info": {
   "codemirror_mode": {
    "name": "ipython",
    "version": 2
   },
   "file_extension": ".py",
   "mimetype": "text/x-python",
   "name": "python",
   "nbconvert_exporter": "python",
   "pygments_lexer": "ipython2",
   "version": "2.7.11"
  }
 },
 "nbformat": 4,
 "nbformat_minor": 0
}
